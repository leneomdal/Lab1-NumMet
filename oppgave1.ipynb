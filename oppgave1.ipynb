{
 "cells": [
  {
   "cell_type": "markdown",
   "metadata": {},
   "source": [
    "# Homework 1: Linear Systems Part I"
   ]
  },
  {
   "cell_type": "markdown",
   "metadata": {},
   "source": [
    "## General Instructions\n",
    " \n",
    "* To pass this assignment requires to complete the present Jupyter notebook by\n",
    "    + providing correct answers to all the theoretical exercises, and by\n",
    "    + providing complete and runnable computer code producing the correct results to all the computational problems.\n",
    "\n",
    "* For the theoretical exercises, please include intermediate steps to\n",
    "  explain how you arrive at your solution.\n",
    "* Don't overengineer your code, keep it as simple and readable as possible   and provide short code comments to help other people understanding your     code.\n",
    "* Please provide also a short summary and discussion of your results \n",
    "  including the requested output (e.g., tables, graphs etc.).\n",
    "\n",
    "* Up to 3 students can jointly submit the solutions (4 students if at\n",
    "  least one is an exchange student) **Only 1 student from each group** \n",
    "  is supposed to submit them.  \n",
    "\n",
    "##### Deadline for submission of your solutions is **5th of September**.\n",
    "\n",
    "\n",
    "###  Happy coding!"
   ]
  },
  {
   "cell_type": "markdown",
   "metadata": {},
   "source": [
    "**And before we start:**\n",
    "\n",
    "Executing the following cell loads a non-default css style for the notebook. \n",
    "Make sure that you download the corresponding css file  `tmas4215.css` from the `lab/styles` Blackbord folder. Note that the following code snippet assumes that the file resides inside the folder `../styles/` relative to the folder where you stored this notebook on you computer."
   ]
  },
  {
   "cell_type": "code",
   "execution_count": 1,
   "metadata": {},
   "outputs": [],
   "source": [
    "from IPython.core.display import HTML\n",
    "def css_styling():\n",
    "    styles = open(\"../styles/tma4215.css\", \"r\").read()\n",
    "    return HTML(styles)\n",
    "\n",
    "# Comment out next line and execute this cell to restore the default notebook style \n",
    "#css_styling()"
   ]
  },
  {
   "cell_type": "markdown",
   "metadata": {},
   "source": [
    "### Useful code snippets\n",
    "\n",
    "We provide a few of code snippets to get you\n",
    "started in Python. Three dots $\\ldots$ indicate places where you have\n",
    "to fill in code. We start with importing the necessary scientific libraries\n",
    "and define a name alias for them."
   ]
  },
  {
   "cell_type": "code",
   "execution_count": 2,
   "metadata": {
    "jupyter": {
     "outputs_hidden": true
    }
   },
   "outputs": [],
   "source": [
    "# Arrary and stuff \n",
    "import numpy as np\n",
    "# Linear algebra solvers from scipy\n",
    "import scipy.linalg as la\n",
    "# Basic plotting routines from the matplotlib library \n",
    "import matplotlib.pyplot as plt\n",
    "\n",
    "import math as mt"
   ]
  },
  {
   "cell_type": "markdown",
   "metadata": {},
   "source": [
    "## Problem 1\n",
    "Provide a complete proof of Theorem 2 from Lecture 2,\n",
    "following the outline provided there. \n",
    "\n",
    "Theorem 2: Let $A \\in \\mathbb{R}^{n,n}$ with $n \\ge 2$ and assume that every leading principal submatrix of order k with $1\\le k\\le n-1$ is invertible. Then A admits a $LU$ factorization, where $L$ is unit lower triangular of order $n$, and $R$ is upper trangular of order $n$.\n",
    "\n",
    "Proof: This is a proof by induction, we start with the base case where $n = 2$. Assuming $A$ can be written as: $$A = \\left( {\\begin{array}{cc} a & b\\\\ c & d\\\\ \\end{array} } \\right).$$\n",
    "\n",
    "We want to establish the existence of \n",
    "$$L = \\left( {\\begin{array}{cc} 1 & 0\\\\ m & 1\\\\ \\end{array} } \\right)\\quad and \\quad U = \\left( {\\begin{array}{cc} u & v\\\\ 0 & \\eta\\\\ \\end{array} } \\right)$$ \n",
    "\n",
    "such that $LU = A$. Multiplying the matrices give us the following 4 equations:\n",
    "$$ u = a $$ $$v = b$$ $$mu = c$$ $$mv + \\eta = d$$\n",
    "\n",
    "As expressions of a, b, c and d:\n",
    "\n",
    "$$ u = a $$ $$v = b$$ $$m = \\frac{c}{a}$$ $$\\eta = d - \\frac{c}{a}b$$\n",
    "\n",
    "If a = 0, m and $\\eta$ are not defined so it is impossible to do an LU-factorization. In addition, if a = 0, det(A)$\\not=$0 $\\Rightarrow$ LU-factorication is not possible.\n",
    "\n",
    "Inductive step:\n",
    "We assume that the theorem is proven for all matrices of order k, $2\\le k\\le n$, and suppose that $A\\in \\mathbb{R}^{n,n}$.\n",
    "\n",
    "$$A = \\left( {\\begin{array}{cc} A^{(n)} & \\textbf b\\\\ \\textbf c^{T} & d\\\\ \\end{array} } \\right)$$\n",
    "\n",
    "where b and c are column vectors and $\\eta$ is a scalar. Assuming that A satisfy the assumption of the theorem and that the theorem is proven for $n$. We want to show that $A^{(n)}$admits a LU factorizaton and to make the ansatz.\n",
    "\n",
    "$$L = \\left( {\\begin{array}{cc} L^{(n)} & \\textbf 0\\\\ \\textbf m^T & 1\\\\ \\end{array} } \\right)\\quad and \\quad U = \\left( {\\begin{array}{cc} U^{(n)} & \\textbf v\\\\ 0 & \\eta\\\\ \\end{array} } \\right)$$ \n",
    "\n",
    "Multiplying the matrices gives us the following 4 equations:\n",
    "$$ A^{(n)}= L^{(n)} U^{(n)}$$ $$\\textbf b = L^{(n)} \\textbf v$$ $$ \\textbf c^{T} = \\textbf m^T \\textbf v $$ $$ d = \\textbf m^T \\textbf v + \\eta$$\n",
    "\n",
    "We want to solve $\\textbf v$ and $\\textbf m^T$, and in order to do so both $L^{(n)}$ and $U^{(n)}$ have to be invertible. Meaning that det($L^{(n)}) \\not =$ 0 and det($U^{(n)}) \\not =$ 0, such that det$A^{(n)}=det(L^{(n)}U^{(n)}) = det(L^{(n)})det(U^{(n)}) \\not = 0$ where we are using the Binet-Cauchy-thorem stating that $det(XY) = det(X)det(Y)$.\n",
    "\n",
    "This shows that for any NxN matrix every leading principal submatrix must be invertible."
   ]
  },
  {
   "cell_type": "markdown",
   "metadata": {},
   "source": [
    "## Problem 2"
   ]
  },
  {
   "cell_type": "markdown",
   "metadata": {},
   "source": [
    "Given matrix $A \\in \\mathbb{R}^{n,n}$ and $\\boldsymbol{b} \\in \\mathbb{R}^n$,\n",
    "the goal of this problem set is to compute the solution $\\boldsymbol{x}$\n",
    "to the linear system $A \\boldsymbol{x} = \\boldsymbol{b}$ numerically\n",
    "by implementing the algorithms $A = LU$ factorization (whenever possible), and the backward and forward substitution steps in ```Python```.\n",
    "\n",
    "As a preliminary step, please make sure that you have import ```numpy```  as ```np``` by executing the cell right under \"Useful code snippets\"."
   ]
  },
  {
   "cell_type": "markdown",
   "metadata": {},
   "source": [
    "**a)** Implement a ```Python``` function ```forward_sub```:"
   ]
  },
  {
   "cell_type": "code",
   "execution_count": 3,
   "metadata": {},
   "outputs": [],
   "source": [
    "def forward_sub(L, b):\n",
    "    y = np.linalg.inv(L) @ b\n",
    "    return y"
   ]
  },
  {
   "cell_type": "markdown",
   "metadata": {},
   "source": [
    "**b)** Next, implement a ```Python``` function ```backward_sub```:"
   ]
  },
  {
   "cell_type": "code",
   "execution_count": 4,
   "metadata": {},
   "outputs": [],
   "source": [
    "def backward_sub(U, y):\n",
    "    x = np.linalg.inv(U) @ y\n",
    "    return x"
   ]
  },
  {
   "cell_type": "markdown",
   "metadata": {},
   "source": [
    "**c)** Now, implement a Python function which computes for a given matrix $A \\boldsymbol{R}^{n,n}$ the $LU$ factorization of $A = LU$ ((if possible).\n",
    "You can either base your implemenentation on the Banachiewicz or Crout method (explain in Lecture 3) or any method\n",
    "you might dig up from the literature.\n",
    "If you want, you can take some inspiration from the reference **YEB**, Chapter 3.3, see Program 4, 5, 6.\n",
    "\n",
    "If the factorization fails without permutating $A$, you should at least be so kind\n",
    "and raise an ```Exception```, see [Python 3 tutorial, 8. Errors and Exceptions](\n",
    "https://docs.python.org/3/tutorial/errors.html#errors-and-exceptions).\n",
    "More specifically, you can simply raise an [NotImplementedError](https://docs.python.org/3/library/exceptions.html#NotImplementedError) exception.\n",
    "\n",
    "Of course, you can also implement the full $PA = LU$ decomposition if you don't want to throw Exceptions around :)."
   ]
  },
  {
   "cell_type": "code",
   "execution_count": 5,
   "metadata": {},
   "outputs": [],
   "source": [
    "def lu_factor(A):\n",
    "    m, n = A.shape\n",
    "    L = np.zeros((m,n))\n",
    "    U = np.zeros((m,n))\n",
    "    summe1 = 0\n",
    "    summe2 = 0\n",
    "    for i in range(n):\n",
    "        L[i][i] = 1.0\n",
    "        \n",
    "    for i in range(n):\n",
    "        for j in range(0,i):\n",
    "            for k in range(0, j):\n",
    "                summe1 += L[i][k]*U[k][j]*1.0\n",
    "            L[i][j] = (A[i][j] - summe1)/U[j][j]\n",
    "            summe1 = 0\n",
    "        for j in range(i,n):\n",
    "            summe2 = 0\n",
    "            for k in range(0, i):\n",
    "                summe2 += L[i][k]*U[k][j]*1.0\n",
    "            U[i][j] = (A[i][j] - summe2)\n",
    "    return (L, U)"
   ]
  },
  {
   "cell_type": "markdown",
   "metadata": {},
   "source": [
    "**d)** Next, combine the Python functions you just implemented in a)-b) to provide\n",
    "solver for the linear system $A \\boldsymbol{x} = \\boldsymbol{b}$ based on\n",
    "a given $A = LU$ factorization. "
   ]
  },
  {
   "cell_type": "code",
   "execution_count": 6,
   "metadata": {},
   "outputs": [],
   "source": [
    "def lu_solve(L, U, b):\n",
    "    y = forward_sub(L, b)\n",
    "    r = backward_sub(U, y)\n",
    "    return r"
   ]
  },
  {
   "cell_type": "markdown",
   "metadata": {},
   "source": [
    "**e)** Finally, write a ```linear_solve``` function  by simply combining your ```lu_factor``` and ```lu_solve```. "
   ]
  },
  {
   "cell_type": "code",
   "execution_count": 7,
   "metadata": {},
   "outputs": [],
   "source": [
    "def linear_solve(A, b):\n",
    "    L, U = lu_factor(A)\n",
    "    x = lu_solve(L, U, b)\n",
    "    return x"
   ]
  },
  {
   "cell_type": "markdown",
   "metadata": {},
   "source": [
    "**f)** Use you brand new `linear_solve` function to compute the solution to a non-trivial linear system. Here non-trivial means that $n > 4$ :) and a non-zero right-hand side $\\boldsymbol{b}$.\n",
    "\n",
    "*Hint*: To check whether your code computes the \"exact\" result, you can use the \n",
    "method of **manufactured solution**. In the case of linear systems $A \\boldsymbol{x} = \\boldsymbol{b}$ this means that for **given/chosen** matrix $A$ and solution vector $\\boldsymbol{x}$, you simply compute the resulting right-hand side vector \n",
    "$\\boldsymbol{b} = A \\boldsymbol{x}$ to construct an example where you know the solution.\n",
    "When you now solve $A\\boldsymbol{x} = \\boldsymbol{b}$ starting from $A$, $\\boldsymbol{b}$, your implementation should return the correct $\\boldsymbol{x}$."
   ]
  },
  {
   "cell_type": "code",
   "execution_count": 8,
   "metadata": {},
   "outputs": [
    {
     "name": "stdout",
     "output_type": "stream",
     "text": [
      "Real x:  [1. 2. 1. 2. 4.]\n",
      "Estimated x:  [1. 2. 1. 2. 4.]\n"
     ]
    }
   ],
   "source": [
    "# Manufactured solution:\n",
    "A = np.array([[2,-1,-2,1,4],[-4,6,3,2,3],[-4,-2,8,1,6],[2,3,4,5,6], [4,5,5,3,6]])\n",
    "m, n = A.shape\n",
    "x_real = np.array([1.0,2,1,2,4])\n",
    "b = A@x_real\n",
    "\n",
    "# Solving manufactured solution with linear_solve():\n",
    "x_num = linear_solve(A, b)\n",
    "print(\"Real x: \", x_real)\n",
    "print(\"Estimated x: \", x_num)"
   ]
  },
  {
   "cell_type": "markdown",
   "metadata": {},
   "source": [
    "## Problem 3\n",
    "\n",
    "The objective of this problem set is two-fold. First, we will have an actual look \n",
    "at the complexity of the linear solver you implemented in the previous problem.\n",
    "Second, we want to illustrate that the finite precision of real numbers\n",
    "can matter very much in actual computations.\n",
    "\n",
    "We start by introducing the **Hilbert Matrix** $H_n$ of order $n$ by\n",
    "$$ \n",
    "(H_n)_{ij} = \\dfrac{1}{i+j-1} \\quad \\text{for } 1 \\leqslant i,j \\leqslant n.\n",
    "$$\n",
    "\n",
    "\n",
    "The Hilbert matrix is readily available in the ```scipy.linalg``` module, so you simply\n",
    "type, e.g\n",
    "\n",
    "```python\n",
    "n = 3\n",
    "A = la.hilbert(n)\n",
    "```\n",
    "Recall that we imported the ```linalg``` module and renamed it to ```la``` via the\n",
    "```python \n",
    "import scipy.linalg as la\n",
    "``` \n",
    "line at the beginning of this notebook."
   ]
  },
  {
   "cell_type": "markdown",
   "metadata": {},
   "source": [
    "**a)** \n",
    "Define the trivial righ-hand side $\\boldsymbol{b} = \\boldsymbol{0}$\n",
    "and measure the executation time for the various step in your linear_solver.\n",
    "To do so you can use ```%timeit``` and ```%%timeit``` magic functions in IPython,\n",
    "see [corresponding documentation](https://ipython.readthedocs.io/en/stable/interactive/magics.html#magic-timeit).\n",
    "\n",
    "In a nutshell, ```%%timeit``` measures the executation time of an entire cell, while ```%timeit```\n",
    "only measures only the executation time of a single line, e.g. as in\n",
    "\n",
    "```python\n",
    "%timeit my_function()\n",
    "```\n",
    "\n",
    "Note that the latter might not play well with functions returning arguments.\n",
    "To this end, you can simply (re)write a linear solver in  3 lines (1 line per cell)\n",
    "starting from calling your  ```lu_factor``` function and\n",
    "copy-pasting the lines from Step 1 to Step 2 in the ```linear_solve()``` function.\n",
    "Then use the ```%%timeit``` to measure the executation time of each cell.\n",
    "\n",
    "To get accurate timeing results, ```timeit``` automatically runs the same code multiple\n",
    "times in  a loop, and repeats that measurement a number of times.\n",
    "The actual number of loops and repeats is selected automatically and will be printed out at the end. They can also be manually adjusted by using\n",
    "\n",
    "```\n",
    "%%timeit -n<number_of_loops> -r<number_of_repeats>\n",
    "```\n",
    "\n",
    "\n",
    "Now for $n = 500, 1000, 2000, 4000$, measure the executation time for each step in the linear solve\n",
    "(factorizing, forward and backward substitution) and plot\n",
    "the execution time $t$ against the number of unknowns $n$ in a $\\log$-$\\log$ plot,\n",
    "that is, $\\log(t)$ against $\\log(n)$.\n",
    "(Matplotlib has specific functions for log-log plotting)"
   ]
  },
  {
   "cell_type": "code",
   "execution_count": 9,
   "metadata": {},
   "outputs": [],
   "source": [
    "n = [500,1000,2000,4000]\n",
    "A = []\n",
    "b = []\n",
    "L = []\n",
    "U = []\n",
    "\n",
    "for i in range(4):\n",
    "    A.append(la.hilbert(n[i]))\n",
    "    b.append(np.zeros(n[i]))\n",
    "    l, u = la.lu_factor(A[i])\n",
    "    L.append(l)\n",
    "    U.append(u)"
   ]
  },
  {
   "cell_type": "markdown",
   "metadata": {},
   "source": [
    "### LU-factorization"
   ]
  },
  {
   "cell_type": "code",
   "execution_count": 10,
   "metadata": {},
   "outputs": [
    {
     "name": "stdout",
     "output_type": "stream",
     "text": [
      "1.35 ms ± 11.7 µs per loop (mean ± std. dev. of 7 runs, 1000 loops each)\n"
     ]
    }
   ],
   "source": [
    "t1 = %timeit -o la.lu_factor(A[0])"
   ]
  },
  {
   "cell_type": "code",
   "execution_count": 11,
   "metadata": {},
   "outputs": [
    {
     "name": "stdout",
     "output_type": "stream",
     "text": [
      "9.9 ms ± 354 µs per loop (mean ± std. dev. of 7 runs, 100 loops each)\n"
     ]
    }
   ],
   "source": [
    "t2 = %timeit -o la.lu_factor(A[1])"
   ]
  },
  {
   "cell_type": "code",
   "execution_count": 12,
   "metadata": {},
   "outputs": [
    {
     "name": "stdout",
     "output_type": "stream",
     "text": [
      "68.3 ms ± 278 µs per loop (mean ± std. dev. of 7 runs, 10 loops each)\n"
     ]
    }
   ],
   "source": [
    "t3 = %timeit -o la.lu_factor(A[2])"
   ]
  },
  {
   "cell_type": "code",
   "execution_count": 13,
   "metadata": {},
   "outputs": [
    {
     "name": "stdout",
     "output_type": "stream",
     "text": [
      "452 ms ± 1.89 ms per loop (mean ± std. dev. of 7 runs, 1 loop each)\n"
     ]
    }
   ],
   "source": [
    "t4 = %timeit -o la.lu_factor(A[3])"
   ]
  },
  {
   "cell_type": "code",
   "execution_count": 14,
   "metadata": {},
   "outputs": [
    {
     "data": {
      "image/png": "[encoded data removed]",
      "text/plain": [
       "<Figure size 432x288 with 1 Axes>"
      ]
     },
     "metadata": {
      "needs_background": "light"
     },
     "output_type": "display_data"
    }
   ],
   "source": [
    "t1b = t1.best\n",
    "t2b = t2.best\n",
    "t3b = t3.best\n",
    "t4b = t4.best\n",
    "\n",
    "tidLU = []\n",
    "tidLU.append(t1b)\n",
    "tidLU.append(t2b)\n",
    "tidLU.append(t3b)\n",
    "tidLU.append(t4b)\n",
    "\n",
    "plt.figure()\n",
    "plt.title(\"Runtime: LU-factorizatoin\")\n",
    "plt.xlabel(\"log(n)\")\n",
    "plt.ylabel(\"log(tid)\")\n",
    "plt.loglog(n, tidLU)\n",
    "plt.show()"
   ]
  },
  {
   "cell_type": "markdown",
   "metadata": {},
   "source": [
    "### Forward substitution"
   ]
  },
  {
   "cell_type": "code",
   "execution_count": 15,
   "metadata": {},
   "outputs": [
    {
     "name": "stdout",
     "output_type": "stream",
     "text": [
      "5.36 ms ± 147 µs per loop (mean ± std. dev. of 7 runs, 100 loops each)\n"
     ]
    }
   ],
   "source": [
    "t1 = %timeit -o forward_sub(L[0], b[0])"
   ]
  },
  {
   "cell_type": "code",
   "execution_count": 16,
   "metadata": {},
   "outputs": [
    {
     "name": "stdout",
     "output_type": "stream",
     "text": [
      "39.5 ms ± 1.77 ms per loop (mean ± std. dev. of 7 runs, 10 loops each)\n"
     ]
    }
   ],
   "source": [
    "t2 = %timeit -o forward_sub(L[1], b[1])"
   ]
  },
  {
   "cell_type": "code",
   "execution_count": 17,
   "metadata": {},
   "outputs": [
    {
     "name": "stdout",
     "output_type": "stream",
     "text": [
      "239 ms ± 15.8 ms per loop (mean ± std. dev. of 7 runs, 1 loop each)\n"
     ]
    }
   ],
   "source": [
    "t3 = %timeit -o forward_sub(L[2], b[2])"
   ]
  },
  {
   "cell_type": "code",
   "execution_count": 18,
   "metadata": {},
   "outputs": [
    {
     "name": "stdout",
     "output_type": "stream",
     "text": [
      "1.54 s ± 59.8 ms per loop (mean ± std. dev. of 7 runs, 1 loop each)\n"
     ]
    }
   ],
   "source": [
    "t4 = %timeit -o forward_sub(L[3], b[3])"
   ]
  },
  {
   "cell_type": "code",
   "execution_count": 19,
   "metadata": {},
   "outputs": [
    {
     "data": {
      "image/png": "[encoded data removed]",
      "text/plain": [
       "<Figure size 432x288 with 1 Axes>"
      ]
     },
     "metadata": {
      "needs_background": "light"
     },
     "output_type": "display_data"
    }
   ],
   "source": [
    "t1b = t1.best\n",
    "t2b = t2.best\n",
    "t3b = t3.best\n",
    "t4b = t4.best\n",
    "\n",
    "tidF = []\n",
    "tidF.append(t1b)\n",
    "tidF.append(t2b)\n",
    "tidF.append(t3b)\n",
    "tidF.append(t4b)\n",
    "\n",
    "plt.figure()\n",
    "plt.title(\"Runtime: Forward substitution\")\n",
    "plt.xlabel(\"log(n)\")\n",
    "plt.ylabel(\"log(tid)\")\n",
    "plt.loglog(n, tidF)\n",
    "plt.show()"
   ]
  },
  {
   "cell_type": "markdown",
   "metadata": {},
   "source": [
    "### Backward substitution"
   ]
  },
  {
   "cell_type": "code",
   "execution_count": 20,
   "metadata": {},
   "outputs": [
    {
     "name": "stdout",
     "output_type": "stream",
     "text": [
      "5.49 ms ± 130 µs per loop (mean ± std. dev. of 7 runs, 100 loops each)\n"
     ]
    }
   ],
   "source": [
    "t1 = %timeit -o backward_sub(L[0], b[0])"
   ]
  },
  {
   "cell_type": "code",
   "execution_count": 21,
   "metadata": {},
   "outputs": [
    {
     "name": "stdout",
     "output_type": "stream",
     "text": [
      "41.1 ms ± 1.64 ms per loop (mean ± std. dev. of 7 runs, 10 loops each)\n"
     ]
    }
   ],
   "source": [
    "t2 = %timeit -o backward_sub(L[1], b[1])"
   ]
  },
  {
   "cell_type": "code",
   "execution_count": 22,
   "metadata": {},
   "outputs": [
    {
     "name": "stdout",
     "output_type": "stream",
     "text": [
      "245 ms ± 18.2 ms per loop (mean ± std. dev. of 7 runs, 1 loop each)\n"
     ]
    }
   ],
   "source": [
    "t3 = %timeit -o backward_sub(L[2], b[2])"
   ]
  },
  {
   "cell_type": "code",
   "execution_count": 23,
   "metadata": {},
   "outputs": [
    {
     "name": "stdout",
     "output_type": "stream",
     "text": [
      "1.55 s ± 70.8 ms per loop (mean ± std. dev. of 7 runs, 1 loop each)\n"
     ]
    }
   ],
   "source": [
    "t4 = %timeit -o backward_sub(L[3], b[3])"
   ]
  },
  {
   "cell_type": "code",
   "execution_count": 24,
   "metadata": {},
   "outputs": [
    {
     "data": {
      "image/png": "[encoded data removed]",
      "text/plain": [
       "<Figure size 432x288 with 1 Axes>"
      ]
     },
     "metadata": {
      "needs_background": "light"
     },
     "output_type": "display_data"
    }
   ],
   "source": [
    "t1b = t1.best\n",
    "t2b = t2.best\n",
    "t3b = t3.best\n",
    "t4b = t4.best\n",
    "\n",
    "tidB = []\n",
    "tidB.append(t1b)\n",
    "tidB.append(t2b)\n",
    "tidB.append(t3b)\n",
    "tidB.append(t4b)\n",
    "\n",
    "plt.figure()\n",
    "plt.title(\"Runtime: Backward substitution\")\n",
    "plt.xlabel(\"log(n)\")\n",
    "plt.ylabel(\"log(tid)\")\n",
    "plt.loglog(n, tidB)\n",
    "plt.show()"
   ]
  },
  {
   "cell_type": "code",
   "execution_count": 25,
   "metadata": {},
   "outputs": [
    {
     "data": {
      "image/png": "[encoded data removed]",
      "text/plain": [
       "<Figure size 432x288 with 1 Axes>"
      ]
     },
     "metadata": {
      "needs_background": "light"
     },
     "output_type": "display_data"
    }
   ],
   "source": [
    "plt.loglog(n, tidLU)\n",
    "plt.loglog(n, tidF)\n",
    "plt.loglog(n, tidB)\n",
    "plt.show()"
   ]
  },
  {
   "cell_type": "markdown",
   "metadata": {},
   "source": [
    "**b)** Next, define a non-trivial vector $\\boldsymbol{b}$ by\n",
    "$$\n",
    "b_i = \\sum_{j=1}^n (j/(i+j-1)) \n",
    "$$\n",
    "so that the **exact solution** to the lineary system $H_n \\boldsymbol{x} = \\boldsymbol{b}$ is\n",
    "the vector $\\boldsymbol{x}_{\\mathrm{ex}}$  with elements $x_{\\mathrm{ex},i} = i$.\n",
    "Now solve the system using your ```linear_solve``` function for $n = 2, 4, 8, 16$, print the computed solution vector $\\boldsymbol{x}_{\\mathrm{comp}}$ and compare it with $\\boldsymbol{x}_{\\mathrm{ex}}$. In particular compute \n",
    "\n",
    "$$\\|\\boldsymbol{x}_{\\mathrm{ex}}-\\boldsymbol{x}_{\\mathrm{comp}}\\|_2.$$\n",
    "\n",
    "What do you observe? Can you explain your observations?\n",
    "\n",
    "*Hint*: It can be shown that the condition number $\\kappa_2(H_n)$ scales like\n",
    "$$\n",
    "\\kappa_2(H_n) \\sim \\dfrac{\\left(\\sqrt{2}+1\\right)^{4n+4}}{2^{15/4}\\sqrt{\\pi n}}\n",
    "\\text{as } n \\to  \\infty.\n",
    "$$\n",
    "\n",
    "Tabulate the approximate values of $\\kappa_2(H_n)$ for $n = 2, 4, 8, 16$.\n",
    "\n",
    "This exercise was heavily inspired by Section 2.8 in **BLUB**."
   ]
  },
  {
   "cell_type": "code",
   "execution_count": 26,
   "metadata": {},
   "outputs": [
    {
     "name": "stdout",
     "output_type": "stream",
     "text": [
      "Computed x nr. 1 :\n",
      " [1. 2.]\n",
      "Exact x nr. 1 :\n",
      " [1. 2.] \n",
      "\n",
      "Computed x nr. 2 :\n",
      " [1. 2. 3. 4.]\n",
      "Exact x nr. 2 :\n",
      " [1. 2. 3. 4.] \n",
      "\n",
      "Computed x nr. 3 :\n",
      " [1.         2.         3.00000007 3.99999961 5.00000108 5.99999842\n",
      " 7.00000116 7.99999967]\n",
      "Exact x nr. 3 :\n",
      " [1. 2. 3. 4. 5. 6. 7. 8.] \n",
      "\n",
      "Computed x nr. 4 :\n",
      " [   1.00000001    1.99992184    3.00550225    3.8675475     6.59939346\n",
      "   -5.41058954   59.29731619 -152.30718315  339.50004749 -429.25157269\n",
      "  322.8221272    38.28665939 -275.99939853  293.08623244 -108.61014218\n",
      "   38.11414392]\n",
      "Exact x nr. 4 :\n",
      " [ 1.  2.  3.  4.  5.  6.  7.  8.  9. 10. 11. 12. 13. 14. 15. 16.] \n",
      "\n",
      "Norms: [1.1957467920563633e-15, 2.5221653366604105e-12, 2.2964879607072254e-06, 778.3577021542588] \n",
      "\n",
      "For n =  2  the Condition number is 1162.4\n",
      "For n =  4  the Condition number is 948520\n",
      "For n =  8  the Condition number is 8.93187e+11\n",
      "For n =  16  the Condition number is 1.12008e+24\n"
     ]
    }
   ],
   "source": [
    "def create_b(n):\n",
    "    s = 0\n",
    "    b = np.zeros(n)\n",
    "    \n",
    "    for i in range(n):\n",
    "        for j in range(n):\n",
    "            s += (j+1)/(i+j-1+2)\n",
    "        b[i] = s\n",
    "        s = 0\n",
    "    return b\n",
    "\n",
    "\n",
    "def createx_ex(n):\n",
    "    x_ex = np.zeros(n)\n",
    "    for k in range (n):\n",
    "        x_ex[k] = k+1\n",
    "    return x_ex\n",
    "\n",
    "def K2(n):\n",
    "    K_2 = (2**(1/2) + 1)**(4*n + 4)/(2**(15/4) *(mt.pi * n)**(1/2))\n",
    "    return K_2\n",
    "    \n",
    "\n",
    "comps = []\n",
    "norms = []\n",
    "conds = []\n",
    "i = 1\n",
    "vec = [2,4,8,16]\n",
    "\n",
    "for n in vec:\n",
    "    A = la.hilbert(n)\n",
    "    b = create_b(n)\n",
    "    x_ex = createx_ex(n)\n",
    "    x_comp = linear_solve(A,b)\n",
    "    print(\"Computed x nr.\", i,\":\\n\", x_comp)\n",
    "    print(\"Exact x nr.\", i,\":\\n\", x_ex, \"\\n\")\n",
    "    i += 1\n",
    "    diff = x_ex-x_comp\n",
    "    norm = la.norm(diff)\n",
    "    norms.append(norm)\n",
    "    conds.append(K2(n))\n",
    "\n",
    "print(\"Norms:\", norms, \"\\n\")\n",
    "\n",
    "for i in range(len(vec)):\n",
    "    print(\"For n = \", vec[i], \" the Condition number is\", \"%4g\" % conds[i])"
   ]
  },
  {
   "cell_type": "markdown",
   "metadata": {
    "collapsed": true
   },
   "source": [
    "The computational values of the vector $x_{comp}$ corresponds well to the exact value of the vector, $x_{ex}$, for $n = 2, 4, 8$. This results in a very small norm for these values of $n$. For $n = 16$ the computational values of $x_{comp}$ changes rapidly, both in absolutevalue and in sign. It does not correspond well to the exact value of $x_{ex}$, and it results in a large norm relative to exact values. The norm for $n = 16$ is scaled by approximately $10^8$ compared to the norm for $n = 8$, \n",
    "\n",
    "The condition number describes how a small change in input value affects the change in output value, a large\n",
    "condition number implies that the problem is ill-conditioned, and thus have a large norm. The equation $K_2 (H_2)$, proportional to the conditon number, increases with increasing $n$. We observe that for $n = 16$\n",
    "the conditon number is extremly high, which implies that the problem is ill-conditioned. The scale of the norm for $n = 16$ is therefore as expected."
   ]
  }
 ],
 "metadata": {
  "anaconda-cloud": {},
  "kernelspec": {
   "display_name": "Python 3",
   "language": "python",
   "name": "python3"
  },
  "language_info": {
   "codemirror_mode": {
    "name": "ipython",
    "version": 3
   },
   "file_extension": ".py",
   "mimetype": "text/x-python",
   "name": "python",
   "nbconvert_exporter": "python",
   "pygments_lexer": "ipython3",
   "version": "3.7.1"
  }
 },
 "nbformat": 4,
 "nbformat_minor": 4
}
